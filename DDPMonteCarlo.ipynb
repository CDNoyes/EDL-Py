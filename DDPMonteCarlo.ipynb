{
 "cells": [
  {
   "cell_type": "code",
   "execution_count": 1,
   "metadata": {},
   "outputs": [],
   "source": [
    "import sys, os\n",
    "sys.path.append(\"./EntryGuidance\")\n",
    "\n",
    "from scipy.interpolate import interp1d\n",
    "from scipy.integrate import odeint, cumtrapz \n",
    "from scipy.io import loadmat, savemat\n",
    "import pickle\n",
    "from time import time\n",
    "\n",
    "import numpy as np\n",
    "import chaospy as cp \n",
    "import matplotlib.pyplot as plt \n",
    "\n",
    "from Utils.boxgrid import boxgrid\n",
    "import Utils.DA as da\n",
    "from Utils.RK4 import RK4\n",
    "from Utils.submatrix import submatrix \n",
    "\n",
    "from EntryGuidance.EntryEquations import Entry, EDL\n",
    "from EntryGuidance.Simulation import Simulation, Cycle, EntrySim\n",
    "from EntryGuidance.InitialState import InitialState\n",
    "from EntryGuidance.Planet import Planet \n",
    "from EntryGuidance.Triggers import AltitudeTrigger\n",
    "from EntryGuidance.VMC import VMC, velocity_trigger\n",
    "from EntryGuidance.EntryVehicle import ConstantAeroEV\n",
    "from Utils import Unscented \n",
    "\n",
    "np.set_printoptions(suppress=True, precision=3)"
   ]
  },
  {
   "cell_type": "code",
   "execution_count": 18,
   "metadata": {},
   "outputs": [],
   "source": [
    "mdir = \"E:\\Documents\\GitHub\\Research\\Matlab\\iLQR\"\n",
    "fname = \"RobustTestSolution.mat\"\n",
    "# fname = \"FixedGainTestSolution.mat\"\n",
    "\n",
    "data = loadmat(os.path.join(mdir,fname))"
   ]
  },
  {
   "cell_type": "code",
   "execution_count": 45,
   "metadata": {},
   "outputs": [
    {
     "name": "stdout",
     "output_type": "stream",
     "text": [
      "(3, 2000)\n",
      "(5, 2000)\n"
     ]
    },
    {
     "data": {
      "text/plain": [
       "dict_keys(['__header__', '__version__', '__globals__', 'u', 'v', 'mean', 'var', 'h', 'fpa', 's', 'weights', 'cost', 'bounds', 'X0', 'ddp', 'sigma_weights', 'L', 'D', 'Dm', 'Dv', 'stats', 'ut'])"
      ]
     },
     "execution_count": 45,
     "metadata": {},
     "output_type": "execute_result"
    }
   ],
   "source": [
    "P0 = 1*np.diag([2500, 0.25*np.pi/180, 5000])**2  # h s fpa (no velocity term) \n",
    "\n",
    "N = 2000\n",
    "x0 = data['mean'].T[0]\n",
    "X0 = cp.MvNormal(x0, P0).sample(N, 'L')\n",
    "\n",
    "# X0, mw, cw = Unscented.Transform(x0, P0, k=4)\n",
    "# X0 = X0.T\n",
    "\n",
    "mass = 7200.\n",
    "\n",
    "print(X0.shape)\n",
    "# reorder and add velocity terms - h s v gamma\n",
    "X0 =np.array([X0[0]+3396.2e3, X0[2], data['v'][0] + 0*X0[0], X0[1], mass + 0*X0[0]]) \n",
    "print(X0.shape)\n",
    "\n",
    "data.keys()\n"
   ]
  },
  {
   "cell_type": "code",
   "execution_count": 46,
   "metadata": {},
   "outputs": [
    {
     "data": {
      "image/png": "[encoded data removed]",
      "text/plain": [
       "<Figure size 432x288 with 1 Axes>"
      ]
     },
     "metadata": {
      "needs_background": "light"
     },
     "output_type": "display_data"
    },
    {
     "data": {
      "image/png": "[encoded data removed]",
      "text/plain": [
       "<Figure size 432x288 with 1 Axes>"
      ]
     },
     "metadata": {
      "needs_background": "light"
     },
     "output_type": "display_data"
    }
   ],
   "source": [
    "def smooth_sat(x, tuning=20):\n",
    "    \"\"\"Another saturation function, from \n",
    "    Saturated Robust Adaptive Control for Uncertain Nonlinear Systems using a new approximate model\n",
    "    \n",
    "    \"\"\"\n",
    "    q = 2*x-1\n",
    "    return 0.5 + 0.25/tuning*np.log(np.cosh(tuning*(q+1))/np.cosh(tuning*(q-1)))\n",
    "\n",
    "class ddp_controller:\n",
    "\n",
    "    def __init__(self, data):\n",
    "        v = data['v'].squeeze()\n",
    "        u0 = data['u'][0] # feedfoward term \n",
    "        u0[-1] = u0[-2]\n",
    "        u0 = np.append(u0, u0[-2])\n",
    "        \n",
    "        if data['u'].shape[0] < 4:\n",
    "            kd = 0.1\n",
    "            ks = -0.1\n",
    "            kf = -50.0\n",
    "            K = lambda v: np.array([kd, ks, kf])\n",
    "            print(\"Fixed Gain Controller\")\n",
    "        else:\n",
    "            K = interp1d(v[:-1], data['u'][1:], bounds_error=False, fill_value=(data['u'][1:,-2], data['u'][1:,0]))\n",
    "            \n",
    "        self.K = K\n",
    "        self.u = interp1d(v, u0, bounds_error=False, fill_value=(u0[-1],u0[0]))\n",
    "        xr = np.vstack([data['Dm'], data['mean'][1:]])\n",
    "        self.ref = interp1d(v, xr, bounds_error=False, fill_value=(xr[:,-1],xr[:,0]))\n",
    "        \n",
    "\n",
    "    def __call__(self, E, x, L, D):\n",
    "        # compute error states, apply gains\n",
    "        r,s,v,fpa,_ = x\n",
    "        \n",
    "        xr = self.ref(v)\n",
    "        eD = D - xr[0]\n",
    "        es = s/1000 - xr[2]\n",
    "        ef = fpa - xr[1]\n",
    "        K = self.K(v)\n",
    "        if 0:\n",
    "            print(K)\n",
    "#             print(eD, es, np.degrees(ef))\n",
    "#             print(xr)\n",
    "        u = smooth_sat(self.u(v) + K[0]*eD + K[1]*es + K[2]*ef)\n",
    "        u = np.clip(u, 0, 1)\n",
    "#         u = np.clip(self.u(v) + K[0]*eD + K[1]*es + K[2]*ef, 0, 1)\n",
    "        \n",
    "#         u[np.isnan(u)] = 1\n",
    "        \n",
    "        return u\n",
    "    \n",
    "C = ddp_controller(data)\n",
    "v = data['v'].squeeze()    \n",
    "xr = C.ref(v)\n",
    "xr[1] = np.degrees(xr[1])\n",
    "\n",
    "plt.figure()\n",
    "plt.plot(v, C.u(v))\n",
    "# plt.plot(v, C.K(v)[0:2].T)\n",
    "\n",
    "plt.figure()\n",
    "plt.plot(v, xr.T)\n",
    "\n",
    "plt.show()    "
   ]
  },
  {
   "cell_type": "code",
   "execution_count": 47,
   "metadata": {},
   "outputs": [
    {
     "name": "stdout",
     "output_type": "stream",
     "text": [
      " \n",
      "Generating 2000 samples...\n"
     ]
    }
   ],
   "source": [
    "mc = VMC()\n",
    "mc.null_sample(N)\n",
    "# mc.null_sample(7) # for unscented transform comparison only\n",
    "\n",
    "mc.control = ddp_controller(data)\n",
    "mc.set_trigger(velocity_trigger(data['v'][-1]))\n",
    "\n",
    "vehicle = lambda CD,CL: ConstantAeroEV(1.46, 0.35, CD=CD, CL=CL)"
   ]
  },
  {
   "cell_type": "code",
   "execution_count": 60,
   "metadata": {},
   "outputs": [
    {
     "name": "stdout",
     "output_type": "stream",
     "text": [
      "Low Altitude\n",
      "\tMC: 6.242 km\n",
      "\tUT: 6.212 km\n",
      "3-sigma DR\n",
      "\tMC: 0.995 km\n",
      "\tUT: 0.190 km\n"
     ]
    }
   ],
   "source": [
    "# mc._run(X0, stepsize=0.25, Ef=150000, time_constant=0, debug=0, edl_kwargs={'Longitudinal': True, 'VehicleModel': vehicle})\n",
    "# mc._run(X0, stepsize=[5, 0.1, 1], Ef=150000, time_constant=0, debug=0, edl_kwargs={'Longitudinal': True, 'VehicleModel': vehicle})\n",
    "\n",
    "mean = np.mean(mc.xf, axis=0)\n",
    "std = np.std(mc.xf, axis=0)\n",
    "std_ut = data['ut'][0][0][-1][0] # mean alt, low alt, 3*dr\n",
    "\n",
    "print(\"Low Altitude\\n\\tMC: {:.3f} km\\n\\tUT: {:.3f} km\".format(mean[0]/1000-3396.2-3*std[0]/1000, std_ut[1]))\n",
    "print(\"3-sigma DR\\n\\tMC: {:.3f} km\\n\\tUT: {:.3f} km\".format(3*std[1]/1000, std_ut[2]))"
   ]
  },
  {
   "cell_type": "code",
   "execution_count": 55,
   "metadata": {},
   "outputs": [
    {
     "name": "stdout",
     "output_type": "stream",
     "text": [
      "Low Altitude = 6.242 km, UT = 6.212 km\n",
      "3sigma DR = 0.995 km, UT = 0.190 km\n"
     ]
    },
    {
     "data": {
      "image/png": "[encoded data removed]",
      "text/plain": [
       "<Figure size 432x288 with 1 Axes>"
      ]
     },
     "metadata": {
      "needs_background": "light"
     },
     "output_type": "display_data"
    },
    {
     "data": {
      "image/png": "[encoded data removed]",
      "text/plain": [
       "<Figure size 432x288 with 1 Axes>"
      ]
     },
     "metadata": {
      "needs_background": "light"
     },
     "output_type": "display_data"
    }
   ],
   "source": [
    "\n",
    "\n",
    "\n",
    "mc.xf.shape  # N x n \n",
    "\n",
    "if 0: # Set X0 to unscented above to debug \n",
    "    vu = data['ut'][0][0][0]\n",
    "    xu = data['ut'][0][0][1].T # \n",
    "    uu = data['ut'][0][0][2].T\n",
    "\n",
    "    k = 7\n",
    "\n",
    "    plt.figure(666, figsize=(10,10))\n",
    "    for traj in mc.mc:\n",
    "        plt.plot(traj.T[2], traj.T[0]/1000-3396.2)\n",
    "\n",
    "    plt.plot(vu, xu[:k].T/1000, 'k--')   \n",
    "\n",
    "    plt.grid(1)\n",
    "    plt.figure(669, figsize=(10,10))\n",
    "    for traj in mc.mc:\n",
    "        plt.plot(traj.T[2], traj.T[1]/1000)\n",
    "\n",
    "    plt.plot(vu, xu[2*k:3*k].T, 'k--')   \n",
    "\n",
    "    plt.grid(1)\n",
    "    plt.figure(668, figsize=(10,10))\n",
    "    for traj, control in zip(mc.mc, mc.mcu):\n",
    "        plt.plot(traj.T[2], control)\n",
    "\n",
    "    plt.plot(vu, uu, 'k--')   \n",
    "    plt.grid(1)\n",
    "\n",
    "#     plt.figure(667, figsize=(10,10))\n",
    "#     for traj, aero in zip(mc.mc, mc.mca):\n",
    "#         plt.plot(traj.T[2], aero)\n",
    "\n",
    "#     # plt.plot(vu, xu[:k].T/1000, 'k--')   \n",
    "#     plt.plot(v, xr[0].T, 'k')\n",
    "#     plt.grid(1)\n",
    "\n",
    "xf = mc.xf.T\n",
    "plt.figure()\n",
    "plt.scatter(xf[2], xf[0]/1000-3396.2)\n",
    "plt.grid(1)\n",
    "\n",
    "plt.figure()\n",
    "plt.scatter(xf[2], xf[1]/1000)\n",
    "plt.grid(1)"
   ]
  }
 ],
 "metadata": {
  "kernelspec": {
   "display_name": "Python 3",
   "language": "python",
   "name": "python3"
  },
  "language_info": {
   "codemirror_mode": {
    "name": "ipython",
    "version": 3
   },
   "file_extension": ".py",
   "mimetype": "text/x-python",
   "name": "python",
   "nbconvert_exporter": "python",
   "pygments_lexer": "ipython3",
   "version": "3.6.7"
  }
 },
 "nbformat": 4,
 "nbformat_minor": 4
}
